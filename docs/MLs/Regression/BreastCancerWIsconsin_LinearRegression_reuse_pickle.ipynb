{
  "nbformat": 4,
  "nbformat_minor": 0,
  "metadata": {
    "colab": {
      "provenance": [],
      "mount_file_id": "1M5pb7BniZiyulJ04jhJbNigXX01DEGs9",
      "authorship_tag": "ABX9TyNDAi+f+KFpvO5NB4mPfyWO",
      "include_colab_link": true
    },
    "kernelspec": {
      "name": "python3",
      "display_name": "Python 3"
    },
    "language_info": {
      "name": "python"
    }
  },
  "cells": [
    {
      "cell_type": "markdown",
      "metadata": {
        "id": "view-in-github",
        "colab_type": "text"
      },
      "source": [
        "<a href=\"https://colab.research.google.com/github/kdj0712/study_AIs/blob/main/docs/MLs/Regression/BreastCancerWIsconsin_LinearRegression_reuse_pickle.ipynb\" target=\"_parent\"><img src=\"https://colab.research.google.com/assets/colab-badge.svg\" alt=\"Open In Colab\"/></a>"
      ]
    },
    {
      "cell_type": "code",
      "execution_count": null,
      "metadata": {
        "id": "1dc1TsOnEhK3"
      },
      "outputs": [],
      "source": [
        "file_path = '/content/drive/MyDrive/data_analytics/CSV파일/BreastCancerWIsconsin_LinearRegression.pkl'\n",
        "\n",
        "import pickle\n",
        "with open(file_path, 'rb') as pickle_file:\n",
        "  loaded_model = pickle.load(pickle_file)"
      ]
    },
    {
      "cell_type": "code",
      "source": [
        "type(loaded_model)"
      ],
      "metadata": {
        "colab": {
          "base_uri": "https://localhost:8080/"
        },
        "id": "fL4dWDj8FazC",
        "outputId": "6d17bd75-e9ca-473f-b94c-b22beae5ad66"
      },
      "execution_count": null,
      "outputs": [
        {
          "output_type": "execute_result",
          "data": {
            "text/plain": [
              "sklearn.linear_model._base.LinearRegression"
            ]
          },
          "metadata": {},
          "execution_count": 3
        }
      ]
    },
    {
      "cell_type": "code",
      "source": [
        "loaded_model.predict([[29.5, 109.2, 101.5]])"
      ],
      "metadata": {
        "colab": {
          "base_uri": "https://localhost:8080/"
        },
        "id": "PjscB5r0F87y",
        "outputId": "c170400a-5ac4-4f87-ef5a-98de9a861a60"
      },
      "execution_count": null,
      "outputs": [
        {
          "output_type": "stream",
          "name": "stderr",
          "text": [
            "/usr/local/lib/python3.10/dist-packages/sklearn/base.py:439: UserWarning: X does not have valid feature names, but LinearRegression was fitted with feature names\n",
            "  warnings.warn(\n"
          ]
        },
        {
          "output_type": "execute_result",
          "data": {
            "text/plain": [
              "array([15.82878449])"
            ]
          },
          "metadata": {},
          "execution_count": 4
        }
      ]
    },
    {
      "cell_type": "code",
      "source": [],
      "metadata": {
        "id": "-yBRCLyfGY46"
      },
      "execution_count": null,
      "outputs": []
    }
  ]
}