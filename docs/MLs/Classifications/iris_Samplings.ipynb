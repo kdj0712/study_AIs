{
  "nbformat": 4,
  "nbformat_minor": 0,
  "metadata": {
    "colab": {
      "provenance": [],
      "toc_visible": true,
      "authorship_tag": "ABX9TyOGW+Krw9Byv2POjdxz9U+s",
      "include_colab_link": true
    },
    "kernelspec": {
      "name": "python3",
      "display_name": "Python 3"
    },
    "language_info": {
      "name": "python"
    }
  },
  "cells": [
    {
      "cell_type": "markdown",
      "metadata": {
        "id": "view-in-github",
        "colab_type": "text"
      },
      "source": [
        "<a href=\"https://colab.research.google.com/github/kdj0712/study_AIs/blob/main/docs/MLs/Classifications/iris_Samplings.ipynb\" target=\"_parent\"><img src=\"https://colab.research.google.com/assets/colab-badge.svg\" alt=\"Open In Colab\"/></a>"
      ]
    },
    {
      "cell_type": "markdown",
      "source": [
        "## 샘플링"
      ],
      "metadata": {
        "id": "8Q5EBZXnU4jB"
      }
    },
    {
      "cell_type": "markdown",
      "source": [
        "### 데이터"
      ],
      "metadata": {
        "id": "tdtwUCtqXEG7"
      }
    },
    {
      "cell_type": "code",
      "source": [
        "from sklearn import datasets\n",
        "iris_dataset = datasets.load_iris()"
      ],
      "metadata": {
        "id": "TQMJ8pVbLfFn"
      },
      "execution_count": 1,
      "outputs": []
    },
    {
      "cell_type": "code",
      "source": [
        "type(iris_dataset), iris_dataset.keys()"
      ],
      "metadata": {
        "colab": {
          "base_uri": "https://localhost:8080/"
        },
        "id": "vnh3RDvlVoRF",
        "outputId": "0590d8b4-8c99-47e7-8044-e87cd2b8ed11"
      },
      "execution_count": 2,
      "outputs": [
        {
          "output_type": "execute_result",
          "data": {
            "text/plain": [
              "(sklearn.utils._bunch.Bunch,\n",
              " dict_keys(['data', 'target', 'frame', 'target_names', 'DESCR', 'feature_names', 'filename', 'data_module']))"
            ]
          },
          "metadata": {},
          "execution_count": 2
        }
      ]
    },
    {
      "cell_type": "code",
      "source": [
        "import numpy as np\n",
        "feature_train = iris_dataset['data']\n",
        "feature_train[:2]"
      ],
      "metadata": {
        "colab": {
          "base_uri": "https://localhost:8080/"
        },
        "id": "maJxoNGiV4fl",
        "outputId": "627ffdbc-2f84-42f0-a516-aca4e05a8d79"
      },
      "execution_count": 3,
      "outputs": [
        {
          "output_type": "execute_result",
          "data": {
            "text/plain": [
              "array([[5.1, 3.5, 1.4, 0.2],\n",
              "       [4.9, 3. , 1.4, 0.2]])"
            ]
          },
          "metadata": {},
          "execution_count": 3
        }
      ]
    },
    {
      "cell_type": "code",
      "source": [
        "feature_train.shape"
      ],
      "metadata": {
        "colab": {
          "base_uri": "https://localhost:8080/"
        },
        "id": "hbbPG6BZWfn4",
        "outputId": "5ea0cad1-9512-4199-dfd4-c478aaf071b0"
      },
      "execution_count": 4,
      "outputs": [
        {
          "output_type": "execute_result",
          "data": {
            "text/plain": [
              "(150, 4)"
            ]
          },
          "metadata": {},
          "execution_count": 4
        }
      ]
    },
    {
      "cell_type": "code",
      "source": [
        "# create Imbalanced dataset\n",
        "Imbalanced_features = iris_dataset['data'][:70]\n",
        "Imbalanced_target = iris_dataset['target'][:70]\n",
        "Imbalanced_features.shape, Imbalanced_target.shape"
      ],
      "metadata": {
        "colab": {
          "base_uri": "https://localhost:8080/"
        },
        "id": "6J3ufihE2jfK",
        "outputId": "7de08234-a802-4162-87be-83a6d0c859d9"
      },
      "execution_count": 5,
      "outputs": [
        {
          "output_type": "execute_result",
          "data": {
            "text/plain": [
              "((70, 4), (70,))"
            ]
          },
          "metadata": {},
          "execution_count": 5
        }
      ]
    },
    {
      "cell_type": "code",
      "source": [
        "from collections import Counter\n",
        "Counter(Imbalanced_target)"
      ],
      "metadata": {
        "colab": {
          "base_uri": "https://localhost:8080/"
        },
        "id": "443n9n7s3PTg",
        "outputId": "84ecfe66-05f9-4c35-a1be-96c5e0efc595"
      },
      "execution_count": 6,
      "outputs": [
        {
          "output_type": "execute_result",
          "data": {
            "text/plain": [
              "Counter({0: 50, 1: 20})"
            ]
          },
          "metadata": {},
          "execution_count": 6
        }
      ]
    },
    {
      "cell_type": "markdown",
      "source": [
        "## Resampling"
      ],
      "metadata": {
        "id": "apSze_3_3o1k"
      }
    },
    {
      "cell_type": "markdown",
      "source": [
        "### Oversampling"
      ],
      "metadata": {
        "id": "t7OX8k5u3roj"
      }
    },
    {
      "cell_type": "code",
      "source": [
        "# 많은 개수쪽으로 맞춤\n",
        "from imblearn.over_sampling import SMOTE\n",
        "oversampling = SMOTE(sampling_strategy=0.8)\n",
        "feature_oversample, target_oversample = oversampling.fit_resample(Imbalanced_features,Imbalanced_target)\n",
        "feature_oversample.shape , target_oversample.shape"
      ],
      "metadata": {
        "id": "ABNVekfxbdbl",
        "colab": {
          "base_uri": "https://localhost:8080/"
        },
        "outputId": "12b61fa8-c240-4087-e036-d5f9408f0a2c"
      },
      "execution_count": 8,
      "outputs": [
        {
          "output_type": "execute_result",
          "data": {
            "text/plain": [
              "((90, 4), (90,))"
            ]
          },
          "metadata": {},
          "execution_count": 8
        }
      ]
    },
    {
      "cell_type": "code",
      "source": [
        "Counter(target_oversample)"
      ],
      "metadata": {
        "colab": {
          "base_uri": "https://localhost:8080/"
        },
        "id": "rXtdV0QG36-j",
        "outputId": "165be284-fd45-4f3c-a3ee-0d68be1bf7be"
      },
      "execution_count": 9,
      "outputs": [
        {
          "output_type": "execute_result",
          "data": {
            "text/plain": [
              "Counter({0: 50, 1: 40})"
            ]
          },
          "metadata": {},
          "execution_count": 9
        }
      ]
    },
    {
      "cell_type": "markdown",
      "source": [
        "### UnderSampling"
      ],
      "metadata": {
        "id": "OoxFYIfRMhpB"
      }
    },
    {
      "cell_type": "code",
      "source": [
        "# 적은 개수쪽으로 맞춤\n",
        "from imblearn.under_sampling import NearMiss\n",
        "undersampling = NearMiss(sampling_strategy=0.8)\n",
        "feature_undersample,target_undersample = undersampling.fit_resample(Imbalanced_features,Imbalanced_target)\n",
        "feature_undersample.shape,target_undersample.shape"
      ],
      "metadata": {
        "colab": {
          "base_uri": "https://localhost:8080/"
        },
        "id": "dSeegDMh5Oe0",
        "outputId": "0b5c6188-c9bd-4e82-e2cc-548bec242903"
      },
      "execution_count": 12,
      "outputs": [
        {
          "output_type": "execute_result",
          "data": {
            "text/plain": [
              "((45, 4), (45,))"
            ]
          },
          "metadata": {},
          "execution_count": 12
        }
      ]
    },
    {
      "cell_type": "code",
      "source": [
        "Counter(target_undersample)"
      ],
      "metadata": {
        "colab": {
          "base_uri": "https://localhost:8080/"
        },
        "id": "7nZb6tn9NESg",
        "outputId": "231b012b-17f8-4d8d-d0fb-a3d7be42448a"
      },
      "execution_count": 13,
      "outputs": [
        {
          "output_type": "execute_result",
          "data": {
            "text/plain": [
              "Counter({0: 25, 1: 20})"
            ]
          },
          "metadata": {},
          "execution_count": 13
        }
      ]
    },
    {
      "cell_type": "markdown",
      "source": [
        "### (Over + Under) Sampling"
      ],
      "metadata": {
        "id": "ST_HS0w_O7HQ"
      }
    },
    {
      "cell_type": "code",
      "source": [
        "from imblearn.combine import SMOTEENN\n",
        "combinesampling = SMOTEENN(sampling_strategy=0.5)\n",
        "feature_combinesample,target_combinesample = combinesampling.fit_resample(Imbalanced_features,Imbalanced_target)\n",
        "feature_combinesample.shape ,target_combinesample.shape"
      ],
      "metadata": {
        "colab": {
          "base_uri": "https://localhost:8080/"
        },
        "id": "CcAMPt8hOG13",
        "outputId": "43128b4b-2388-4e1e-df81-9c526e73c45f"
      },
      "execution_count": 14,
      "outputs": [
        {
          "output_type": "execute_result",
          "data": {
            "text/plain": [
              "((75, 4), (75,))"
            ]
          },
          "metadata": {},
          "execution_count": 14
        }
      ]
    },
    {
      "cell_type": "code",
      "source": [
        "Counter(target_combinesample)"
      ],
      "metadata": {
        "colab": {
          "base_uri": "https://localhost:8080/"
        },
        "id": "r4lvAEzxPich",
        "outputId": "1320e476-102a-4bef-9f9d-21f91ea6d51b"
      },
      "execution_count": 15,
      "outputs": [
        {
          "output_type": "execute_result",
          "data": {
            "text/plain": [
              "Counter({0: 50, 1: 25})"
            ]
          },
          "metadata": {},
          "execution_count": 15
        }
      ]
    },
    {
      "cell_type": "code",
      "source": [],
      "metadata": {
        "id": "9bI6GNBePmGY"
      },
      "execution_count": null,
      "outputs": []
    }
  ]
}